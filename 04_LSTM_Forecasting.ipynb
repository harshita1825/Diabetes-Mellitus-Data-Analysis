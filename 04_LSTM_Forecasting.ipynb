{
  "nbformat": 4,
  "nbformat_minor": 0,
  "metadata": {
    "colab": {
      "provenance": []
    },
    "kernelspec": {
      "name": "python3",
      "display_name": "Python 3"
    },
    "language_info": {
      "name": "python"
    }
  },
  "cells": [
    {
      "cell_type": "code",
      "execution_count": 1,
      "metadata": {
        "id": "mYrZz43He73d"
      },
      "outputs": [],
      "source": [
        "import pandas as pd\n",
        "import numpy as np\n",
        "import matplotlib.pyplot as plt\n",
        "import random\n",
        "import tensorflow as tf\n",
        "from tensorflow.keras.models import Sequential\n",
        "from tensorflow.keras.layers import LSTM, Dense\n",
        "from tensorflow.keras.optimizers import Adam\n",
        "from sklearn.metrics import mean_squared_error, mean_absolute_error\n",
        "import warnings\n",
        "warnings.filterwarnings('ignore')"
      ]
    },
    {
      "cell_type": "code",
      "source": [
        "ncd_data = pd.read_csv('/content/drive/MyDrive/Dissertation/processed_ncd_data.csv')\n",
        "print(\"NCD temporal data loaded: \", ncd_data.shape)"
      ],
      "metadata": {
        "colab": {
          "base_uri": "https://localhost:8080/"
        },
        "id": "fDvRKZRRfwfD",
        "outputId": "041ed884-99c5-4f85-abca-d90b4c240788"
      },
      "execution_count": 2,
      "outputs": [
        {
          "output_type": "stream",
          "name": "stdout",
          "text": [
            "NCD temporal data loaded:  (13200, 4)\n"
          ]
        }
      ]
    },
    {
      "cell_type": "code",
      "source": [
        "print('Diabetes Prevalence Statistics:')\n",
        "print(f\"Average: {ncd_data['prevalence'].mean():.1f}%\")\n",
        "print(f\"Minimum: {ncd_data['prevalence'].min():.1f}%\")\n",
        "print(f\"Maximum: {ncd_data['prevalence'].max():.1f}%\")"
      ],
      "metadata": {
        "colab": {
          "base_uri": "https://localhost:8080/"
        },
        "id": "iYdPfXtegCMF",
        "outputId": "99165d75-f93b-40e0-a22c-b7adb5823c2f"
      },
      "execution_count": 3,
      "outputs": [
        {
          "output_type": "stream",
          "name": "stdout",
          "text": [
            "Diabetes Prevalence Statistics:\n",
            "Average: 0.1%\n",
            "Minimum: 0.0%\n",
            "Maximum: 0.4%\n"
          ]
        }
      ]
    },
    {
      "cell_type": "code",
      "source": [
        "def calculate_mape(actual, predicted):\n",
        "    actual = np.where(actual == 0, 0.01, actual)\n",
        "    errors = np.abs(actual - predicted) / actual\n",
        "    return errors.mean() * 100"
      ],
      "metadata": {
        "id": "G7ERkBVk0hFg"
      },
      "execution_count": 4,
      "outputs": []
    },
    {
      "cell_type": "code",
      "source": [
        "def prepare_sequences(data, seq_length):\n",
        "    data = data.sort_values('year').reset_index(drop=True)\n",
        "\n",
        "    if len(data) <= seq_length:\n",
        "        return None, None\n",
        "\n",
        "    X, y = [], []\n",
        "\n",
        "    for i in range(len(data) - seq_length):\n",
        "        seq = data['prevalence'].iloc[i : i + seq_length].values\n",
        "        target = data['prevalence'].iloc[i + seq_length]\n",
        "        X.append(seq)\n",
        "        y.append(target)\n",
        "\n",
        "    return np.array(X), np.array(y)"
      ],
      "metadata": {
        "id": "kvBV5fjUBSjT"
      },
      "execution_count": 5,
      "outputs": []
    },
    {
      "cell_type": "code",
      "source": [
        "def prepare_country_data(country_data, seq_length=5, test_size=2):\n",
        "    if len(country_data) <= seq_length + test_size:\n",
        "        return None\n",
        "\n",
        "    country_data = country_data.sort_values('year').reset_index(drop=True)\n",
        "    country_data = country_data.dropna(subset=['prevalence'])\n",
        "\n",
        "    # Sequences for LSTM\n",
        "    X, y = prepare_sequences(country_data, seq_length)\n",
        "    if X is None or len(X) <= test_size:\n",
        "        return None\n",
        "\n",
        "    split_point = len(X) - test_size\n",
        "    X_train = X[:split_point]\n",
        "    y_train = y[:split_point]\n",
        "    X_test = X[split_point:]\n",
        "    y_test = y[split_point:]\n",
        "\n",
        "    return {\n",
        "        'X_train': X_train,\n",
        "        'y_train': y_train,\n",
        "        'X_test': X_test,\n",
        "        'y_test': y_test,\n",
        "        'country_data': country_data,\n",
        "        'seq_length': seq_length\n",
        "    }"
      ],
      "metadata": {
        "id": "euMc7BfD0lhi"
      },
      "execution_count": 6,
      "outputs": []
    },
    {
      "cell_type": "code",
      "source": [
        "print(\"Processing All Countries and Genders\")\n",
        "\n",
        "seq_length = 6\n",
        "test_size = 2\n",
        "min_years = 12\n",
        "\n",
        "print(\"Sequence length: \", seq_length, \"years\")\n",
        "print(\"Test size: \", test_size, \"years\")\n",
        "print(\"Minimum data required: \", min_years, \"years\")\n",
        "\n",
        "# All country-gender combinations\n",
        "all_combinations = []\n",
        "for country in ncd_data['country'].unique():\n",
        "    for gender in ncd_data['gender'].unique():\n",
        "        subset = ncd_data[(ncd_data['country'] == country) & (ncd_data['gender'] == gender)]\n",
        "        if len(subset) >= min_years:\n",
        "            all_combinations.append((country, gender))\n",
        "\n",
        "print(\"\\nTotal combinations to process: \", len(all_combinations))\n",
        "\n",
        "processed_data = {}\n",
        "all_training_data = {'X_train': [], 'y_train': [], 'X_test': [], 'y_test': []}\n",
        "successful_count = 0\n",
        "\n",
        "for country, gender in all_combinations:\n",
        "    subset = ncd_data[(ncd_data['country'] == country) & (ncd_data['gender'] == gender)]\n",
        "    result = prepare_country_data(subset, seq_length, test_size)\n",
        "\n",
        "    if result is not None:\n",
        "        key = country + '_' + gender\n",
        "        processed_data[key] = result\n",
        "\n",
        "        # Adding to the combined dataset\n",
        "        all_training_data['X_train'].extend(result['X_train'])\n",
        "        all_training_data['y_train'].extend(result['y_train'])\n",
        "        all_training_data['X_test'].extend(result['X_test'])\n",
        "        all_training_data['y_test'].extend(result['y_test'])\n",
        "\n",
        "X_train_all = np.array(all_training_data['X_train'])\n",
        "y_train_all = np.array(all_training_data['y_train'])\n",
        "X_test_all = np.array(all_training_data['X_test'])\n",
        "y_test_all = np.array(all_training_data['y_test'])\n",
        "\n",
        "print(\"Successfully processed\", len(processed_data), \"/\", len(all_combinations), \"combinations\")\n",
        "print(\"Training data shape:\", X_train_all.shape)\n",
        "print(\"Test data shape:\", X_test_all.shape)"
      ],
      "metadata": {
        "colab": {
          "base_uri": "https://localhost:8080/"
        },
        "id": "ZZTk9H8bzI6p",
        "outputId": "e1393f17-1cd3-44bb-f3ca-97d4425d1916"
      },
      "execution_count": 7,
      "outputs": [
        {
          "output_type": "stream",
          "name": "stdout",
          "text": [
            "Processing All Countries and Genders\n",
            "Sequence length:  6 years\n",
            "Test size:  2 years\n",
            "Minimum data required:  12 years\n",
            "\n",
            "Total combinations to process:  400\n",
            "Successfully processed 400 / 400 combinations\n",
            "Training data shape: (10000, 6)\n",
            "Test data shape: (800, 6)\n"
          ]
        }
      ]
    },
    {
      "cell_type": "code",
      "source": [
        "def build_lstm_model(seq_length, n_features):\n",
        "    model = Sequential([\n",
        "        LSTM(50, return_sequences=True, input_shape=(seq_length, n_features)),\n",
        "        LSTM(25, return_sequences=False),\n",
        "        Dense(10, activation='relu'),\n",
        "        Dense(1)\n",
        "    ])\n",
        "\n",
        "    model.compile(optimizer='adam', loss='mse', metrics=['mae'])\n",
        "    return model\n",
        "\n",
        "if len(X_train_all.shape) == 2:\n",
        "    X_train_all = X_train_all.reshape(X_train_all.shape[0], X_train_all.shape[1], 1)\n",
        "    X_test_all = X_test_all.reshape(X_test_all.shape[0], X_test_all.shape[1], 1)\n",
        "    n_features = 1\n",
        "else:\n",
        "    n_features = X_train_all.shape[2]\n",
        "\n",
        "model = build_lstm_model(seq_length, n_features)\n",
        "\n",
        "print(\"Input shape: \", X_train_all.shape)\n",
        "print(\"Features: \", n_features)\n",
        "\n",
        "model.summary()"
      ],
      "metadata": {
        "colab": {
          "base_uri": "https://localhost:8080/",
          "height": 293
        },
        "id": "qn6lQ67BvNaz",
        "outputId": "9f804612-6ee5-4ac2-f13e-aa309bebe7a3"
      },
      "execution_count": 8,
      "outputs": [
        {
          "output_type": "stream",
          "name": "stdout",
          "text": [
            "Input shape:  (10000, 6, 1)\n",
            "Features:  1\n"
          ]
        },
        {
          "output_type": "display_data",
          "data": {
            "text/plain": [
              "\u001b[1mModel: \"sequential\"\u001b[0m\n"
            ],
            "text/html": [
              "<pre style=\"white-space:pre;overflow-x:auto;line-height:normal;font-family:Menlo,'DejaVu Sans Mono',consolas,'Courier New',monospace\"><span style=\"font-weight: bold\">Model: \"sequential\"</span>\n",
              "</pre>\n"
            ]
          },
          "metadata": {}
        },
        {
          "output_type": "display_data",
          "data": {
            "text/plain": [
              "┏━━━━━━━━━━━━━━━━━━━━━━━━━━━━━━━━━┳━━━━━━━━━━━━━━━━━━━━━━━━┳━━━━━━━━━━━━━━━┓\n",
              "┃\u001b[1m \u001b[0m\u001b[1mLayer (type)                   \u001b[0m\u001b[1m \u001b[0m┃\u001b[1m \u001b[0m\u001b[1mOutput Shape          \u001b[0m\u001b[1m \u001b[0m┃\u001b[1m \u001b[0m\u001b[1m      Param #\u001b[0m\u001b[1m \u001b[0m┃\n",
              "┡━━━━━━━━━━━━━━━━━━━━━━━━━━━━━━━━━╇━━━━━━━━━━━━━━━━━━━━━━━━╇━━━━━━━━━━━━━━━┩\n",
              "│ lstm (\u001b[38;5;33mLSTM\u001b[0m)                     │ (\u001b[38;5;45mNone\u001b[0m, \u001b[38;5;34m6\u001b[0m, \u001b[38;5;34m50\u001b[0m)          │        \u001b[38;5;34m10,400\u001b[0m │\n",
              "├─────────────────────────────────┼────────────────────────┼───────────────┤\n",
              "│ lstm_1 (\u001b[38;5;33mLSTM\u001b[0m)                   │ (\u001b[38;5;45mNone\u001b[0m, \u001b[38;5;34m25\u001b[0m)             │         \u001b[38;5;34m7,600\u001b[0m │\n",
              "├─────────────────────────────────┼────────────────────────┼───────────────┤\n",
              "│ dense (\u001b[38;5;33mDense\u001b[0m)                   │ (\u001b[38;5;45mNone\u001b[0m, \u001b[38;5;34m10\u001b[0m)             │           \u001b[38;5;34m260\u001b[0m │\n",
              "├─────────────────────────────────┼────────────────────────┼───────────────┤\n",
              "│ dense_1 (\u001b[38;5;33mDense\u001b[0m)                 │ (\u001b[38;5;45mNone\u001b[0m, \u001b[38;5;34m1\u001b[0m)              │            \u001b[38;5;34m11\u001b[0m │\n",
              "└─────────────────────────────────┴────────────────────────┴───────────────┘\n"
            ],
            "text/html": [
              "<pre style=\"white-space:pre;overflow-x:auto;line-height:normal;font-family:Menlo,'DejaVu Sans Mono',consolas,'Courier New',monospace\">┏━━━━━━━━━━━━━━━━━━━━━━━━━━━━━━━━━┳━━━━━━━━━━━━━━━━━━━━━━━━┳━━━━━━━━━━━━━━━┓\n",
              "┃<span style=\"font-weight: bold\"> Layer (type)                    </span>┃<span style=\"font-weight: bold\"> Output Shape           </span>┃<span style=\"font-weight: bold\">       Param # </span>┃\n",
              "┡━━━━━━━━━━━━━━━━━━━━━━━━━━━━━━━━━╇━━━━━━━━━━━━━━━━━━━━━━━━╇━━━━━━━━━━━━━━━┩\n",
              "│ lstm (<span style=\"color: #0087ff; text-decoration-color: #0087ff\">LSTM</span>)                     │ (<span style=\"color: #00d7ff; text-decoration-color: #00d7ff\">None</span>, <span style=\"color: #00af00; text-decoration-color: #00af00\">6</span>, <span style=\"color: #00af00; text-decoration-color: #00af00\">50</span>)          │        <span style=\"color: #00af00; text-decoration-color: #00af00\">10,400</span> │\n",
              "├─────────────────────────────────┼────────────────────────┼───────────────┤\n",
              "│ lstm_1 (<span style=\"color: #0087ff; text-decoration-color: #0087ff\">LSTM</span>)                   │ (<span style=\"color: #00d7ff; text-decoration-color: #00d7ff\">None</span>, <span style=\"color: #00af00; text-decoration-color: #00af00\">25</span>)             │         <span style=\"color: #00af00; text-decoration-color: #00af00\">7,600</span> │\n",
              "├─────────────────────────────────┼────────────────────────┼───────────────┤\n",
              "│ dense (<span style=\"color: #0087ff; text-decoration-color: #0087ff\">Dense</span>)                   │ (<span style=\"color: #00d7ff; text-decoration-color: #00d7ff\">None</span>, <span style=\"color: #00af00; text-decoration-color: #00af00\">10</span>)             │           <span style=\"color: #00af00; text-decoration-color: #00af00\">260</span> │\n",
              "├─────────────────────────────────┼────────────────────────┼───────────────┤\n",
              "│ dense_1 (<span style=\"color: #0087ff; text-decoration-color: #0087ff\">Dense</span>)                 │ (<span style=\"color: #00d7ff; text-decoration-color: #00d7ff\">None</span>, <span style=\"color: #00af00; text-decoration-color: #00af00\">1</span>)              │            <span style=\"color: #00af00; text-decoration-color: #00af00\">11</span> │\n",
              "└─────────────────────────────────┴────────────────────────┴───────────────┘\n",
              "</pre>\n"
            ]
          },
          "metadata": {}
        },
        {
          "output_type": "display_data",
          "data": {
            "text/plain": [
              "\u001b[1m Total params: \u001b[0m\u001b[38;5;34m18,271\u001b[0m (71.37 KB)\n"
            ],
            "text/html": [
              "<pre style=\"white-space:pre;overflow-x:auto;line-height:normal;font-family:Menlo,'DejaVu Sans Mono',consolas,'Courier New',monospace\"><span style=\"font-weight: bold\"> Total params: </span><span style=\"color: #00af00; text-decoration-color: #00af00\">18,271</span> (71.37 KB)\n",
              "</pre>\n"
            ]
          },
          "metadata": {}
        },
        {
          "output_type": "display_data",
          "data": {
            "text/plain": [
              "\u001b[1m Trainable params: \u001b[0m\u001b[38;5;34m18,271\u001b[0m (71.37 KB)\n"
            ],
            "text/html": [
              "<pre style=\"white-space:pre;overflow-x:auto;line-height:normal;font-family:Menlo,'DejaVu Sans Mono',consolas,'Courier New',monospace\"><span style=\"font-weight: bold\"> Trainable params: </span><span style=\"color: #00af00; text-decoration-color: #00af00\">18,271</span> (71.37 KB)\n",
              "</pre>\n"
            ]
          },
          "metadata": {}
        },
        {
          "output_type": "display_data",
          "data": {
            "text/plain": [
              "\u001b[1m Non-trainable params: \u001b[0m\u001b[38;5;34m0\u001b[0m (0.00 B)\n"
            ],
            "text/html": [
              "<pre style=\"white-space:pre;overflow-x:auto;line-height:normal;font-family:Menlo,'DejaVu Sans Mono',consolas,'Courier New',monospace\"><span style=\"font-weight: bold\"> Non-trainable params: </span><span style=\"color: #00af00; text-decoration-color: #00af00\">0</span> (0.00 B)\n",
              "</pre>\n"
            ]
          },
          "metadata": {}
        }
      ]
    },
    {
      "cell_type": "code",
      "source": [
        "print(\"Training samples: \", len(X_train_all))\n",
        "print(\"Test samples: \", len(X_test_all))\n",
        "\n",
        "history = model.fit(\n",
        "    X_train_all, y_train_all,\n",
        "    validation_data=(X_test_all, y_test_all),\n",
        "    epochs=50,\n",
        "    batch_size=32,\n",
        "    verbose=1\n",
        ")\n",
        "\n",
        "print(\"Training completed!\")"
      ],
      "metadata": {
        "colab": {
          "base_uri": "https://localhost:8080/"
        },
        "id": "3SjIuSHuv1p6",
        "outputId": "59b42161-1c9c-4a34-a1c5-e9ae73af65da"
      },
      "execution_count": 9,
      "outputs": [
        {
          "output_type": "stream",
          "name": "stdout",
          "text": [
            "Training samples:  10000\n",
            "Test samples:  800\n",
            "Epoch 1/50\n",
            "\u001b[1m313/313\u001b[0m \u001b[32m━━━━━━━━━━━━━━━━━━━━\u001b[0m\u001b[37m\u001b[0m \u001b[1m6s\u001b[0m 8ms/step - loss: 0.0045 - mae: 0.0403 - val_loss: 1.2184e-04 - val_mae: 0.0077\n",
            "Epoch 2/50\n",
            "\u001b[1m313/313\u001b[0m \u001b[32m━━━━━━━━━━━━━━━━━━━━\u001b[0m\u001b[37m\u001b[0m \u001b[1m3s\u001b[0m 8ms/step - loss: 5.2264e-05 - mae: 0.0050 - val_loss: 1.2260e-04 - val_mae: 0.0078\n",
            "Epoch 3/50\n",
            "\u001b[1m313/313\u001b[0m \u001b[32m━━━━━━━━━━━━━━━━━━━━\u001b[0m\u001b[37m\u001b[0m \u001b[1m3s\u001b[0m 10ms/step - loss: 5.0356e-05 - mae: 0.0049 - val_loss: 1.0864e-04 - val_mae: 0.0073\n",
            "Epoch 4/50\n",
            "\u001b[1m313/313\u001b[0m \u001b[32m━━━━━━━━━━━━━━━━━━━━\u001b[0m\u001b[37m\u001b[0m \u001b[1m2s\u001b[0m 7ms/step - loss: 4.6838e-05 - mae: 0.0048 - val_loss: 1.0342e-04 - val_mae: 0.0074\n",
            "Epoch 5/50\n",
            "\u001b[1m313/313\u001b[0m \u001b[32m━━━━━━━━━━━━━━━━━━━━\u001b[0m\u001b[37m\u001b[0m \u001b[1m3s\u001b[0m 7ms/step - loss: 4.3237e-05 - mae: 0.0046 - val_loss: 8.8839e-05 - val_mae: 0.0067\n",
            "Epoch 6/50\n",
            "\u001b[1m313/313\u001b[0m \u001b[32m━━━━━━━━━━━━━━━━━━━━\u001b[0m\u001b[37m\u001b[0m \u001b[1m2s\u001b[0m 7ms/step - loss: 3.6693e-05 - mae: 0.0042 - val_loss: 6.4811e-05 - val_mae: 0.0057\n",
            "Epoch 7/50\n",
            "\u001b[1m313/313\u001b[0m \u001b[32m━━━━━━━━━━━━━━━━━━━━\u001b[0m\u001b[37m\u001b[0m \u001b[1m3s\u001b[0m 7ms/step - loss: 3.1245e-05 - mae: 0.0040 - val_loss: 3.6338e-05 - val_mae: 0.0044\n",
            "Epoch 8/50\n",
            "\u001b[1m313/313\u001b[0m \u001b[32m━━━━━━━━━━━━━━━━━━━━\u001b[0m\u001b[37m\u001b[0m \u001b[1m3s\u001b[0m 11ms/step - loss: 1.6102e-05 - mae: 0.0029 - val_loss: 1.9100e-05 - val_mae: 0.0036\n",
            "Epoch 9/50\n",
            "\u001b[1m313/313\u001b[0m \u001b[32m━━━━━━━━━━━━━━━━━━━━\u001b[0m\u001b[37m\u001b[0m \u001b[1m4s\u001b[0m 12ms/step - loss: 7.6434e-06 - mae: 0.0021 - val_loss: 5.6118e-06 - val_mae: 0.0018\n",
            "Epoch 10/50\n",
            "\u001b[1m313/313\u001b[0m \u001b[32m━━━━━━━━━━━━━━━━━━━━\u001b[0m\u001b[37m\u001b[0m \u001b[1m4s\u001b[0m 11ms/step - loss: 3.5801e-06 - mae: 0.0014 - val_loss: 1.0251e-05 - val_mae: 0.0029\n",
            "Epoch 11/50\n",
            "\u001b[1m313/313\u001b[0m \u001b[32m━━━━━━━━━━━━━━━━━━━━\u001b[0m\u001b[37m\u001b[0m \u001b[1m2s\u001b[0m 7ms/step - loss: 3.1917e-06 - mae: 0.0014 - val_loss: 5.5296e-06 - val_mae: 0.0021\n",
            "Epoch 12/50\n",
            "\u001b[1m313/313\u001b[0m \u001b[32m━━━━━━━━━━━━━━━━━━━━\u001b[0m\u001b[37m\u001b[0m \u001b[1m3s\u001b[0m 10ms/step - loss: 4.2093e-06 - mae: 0.0016 - val_loss: 1.8475e-06 - val_mae: 9.2172e-04\n",
            "Epoch 13/50\n",
            "\u001b[1m313/313\u001b[0m \u001b[32m━━━━━━━━━━━━━━━━━━━━\u001b[0m\u001b[37m\u001b[0m \u001b[1m4s\u001b[0m 7ms/step - loss: 2.8607e-06 - mae: 0.0013 - val_loss: 1.5717e-06 - val_mae: 9.1087e-04\n",
            "Epoch 14/50\n",
            "\u001b[1m313/313\u001b[0m \u001b[32m━━━━━━━━━━━━━━━━━━━━\u001b[0m\u001b[37m\u001b[0m \u001b[1m3s\u001b[0m 7ms/step - loss: 2.7301e-06 - mae: 0.0013 - val_loss: 2.7019e-06 - val_mae: 0.0012\n",
            "Epoch 15/50\n",
            "\u001b[1m313/313\u001b[0m \u001b[32m━━━━━━━━━━━━━━━━━━━━\u001b[0m\u001b[37m\u001b[0m \u001b[1m2s\u001b[0m 7ms/step - loss: 2.1241e-06 - mae: 0.0011 - val_loss: 1.6700e-06 - val_mae: 0.0011\n",
            "Epoch 16/50\n",
            "\u001b[1m313/313\u001b[0m \u001b[32m━━━━━━━━━━━━━━━━━━━━\u001b[0m\u001b[37m\u001b[0m \u001b[1m4s\u001b[0m 12ms/step - loss: 2.3625e-06 - mae: 0.0012 - val_loss: 4.2539e-06 - val_mae: 0.0017\n",
            "Epoch 17/50\n",
            "\u001b[1m313/313\u001b[0m \u001b[32m━━━━━━━━━━━━━━━━━━━━\u001b[0m\u001b[37m\u001b[0m \u001b[1m3s\u001b[0m 9ms/step - loss: 2.7399e-06 - mae: 0.0013 - val_loss: 6.0765e-07 - val_mae: 5.4175e-04\n",
            "Epoch 18/50\n",
            "\u001b[1m313/313\u001b[0m \u001b[32m━━━━━━━━━━━━━━━━━━━━\u001b[0m\u001b[37m\u001b[0m \u001b[1m5s\u001b[0m 7ms/step - loss: 1.9813e-06 - mae: 0.0011 - val_loss: 7.9633e-06 - val_mae: 0.0026\n",
            "Epoch 19/50\n",
            "\u001b[1m313/313\u001b[0m \u001b[32m━━━━━━━━━━━━━━━━━━━━\u001b[0m\u001b[37m\u001b[0m \u001b[1m3s\u001b[0m 7ms/step - loss: 2.2967e-06 - mae: 0.0012 - val_loss: 1.5898e-06 - val_mae: 0.0011\n",
            "Epoch 20/50\n",
            "\u001b[1m313/313\u001b[0m \u001b[32m━━━━━━━━━━━━━━━━━━━━\u001b[0m\u001b[37m\u001b[0m \u001b[1m2s\u001b[0m 8ms/step - loss: 1.9045e-06 - mae: 0.0010 - val_loss: 5.0632e-07 - val_mae: 4.8868e-04\n",
            "Epoch 21/50\n",
            "\u001b[1m313/313\u001b[0m \u001b[32m━━━━━━━━━━━━━━━━━━━━\u001b[0m\u001b[37m\u001b[0m \u001b[1m3s\u001b[0m 11ms/step - loss: 1.5947e-06 - mae: 9.4094e-04 - val_loss: 1.8869e-06 - val_mae: 0.0011\n",
            "Epoch 22/50\n",
            "\u001b[1m313/313\u001b[0m \u001b[32m━━━━━━━━━━━━━━━━━━━━\u001b[0m\u001b[37m\u001b[0m \u001b[1m2s\u001b[0m 7ms/step - loss: 1.7307e-06 - mae: 0.0010 - val_loss: 1.7683e-06 - val_mae: 0.0012\n",
            "Epoch 23/50\n",
            "\u001b[1m313/313\u001b[0m \u001b[32m━━━━━━━━━━━━━━━━━━━━\u001b[0m\u001b[37m\u001b[0m \u001b[1m3s\u001b[0m 7ms/step - loss: 1.3819e-06 - mae: 8.8756e-04 - val_loss: 4.1959e-06 - val_mae: 0.0015\n",
            "Epoch 24/50\n",
            "\u001b[1m313/313\u001b[0m \u001b[32m━━━━━━━━━━━━━━━━━━━━\u001b[0m\u001b[37m\u001b[0m \u001b[1m3s\u001b[0m 7ms/step - loss: 1.7797e-06 - mae: 0.0010 - val_loss: 3.0250e-06 - val_mae: 0.0014\n",
            "Epoch 25/50\n",
            "\u001b[1m313/313\u001b[0m \u001b[32m━━━━━━━━━━━━━━━━━━━━\u001b[0m\u001b[37m\u001b[0m \u001b[1m3s\u001b[0m 7ms/step - loss: 1.3496e-06 - mae: 8.6160e-04 - val_loss: 1.1753e-06 - val_mae: 7.5771e-04\n",
            "Epoch 26/50\n",
            "\u001b[1m313/313\u001b[0m \u001b[32m━━━━━━━━━━━━━━━━━━━━\u001b[0m\u001b[37m\u001b[0m \u001b[1m3s\u001b[0m 11ms/step - loss: 1.2413e-06 - mae: 8.4428e-04 - val_loss: 2.5887e-07 - val_mae: 3.9445e-04\n",
            "Epoch 27/50\n",
            "\u001b[1m313/313\u001b[0m \u001b[32m━━━━━━━━━━━━━━━━━━━━\u001b[0m\u001b[37m\u001b[0m \u001b[1m5s\u001b[0m 10ms/step - loss: 1.2890e-06 - mae: 8.6426e-04 - val_loss: 2.2161e-07 - val_mae: 3.3337e-04\n",
            "Epoch 28/50\n",
            "\u001b[1m313/313\u001b[0m \u001b[32m━━━━━━━━━━━━━━━━━━━━\u001b[0m\u001b[37m\u001b[0m \u001b[1m4s\u001b[0m 7ms/step - loss: 1.7387e-06 - mae: 9.9747e-04 - val_loss: 2.5139e-06 - val_mae: 0.0012\n",
            "Epoch 29/50\n",
            "\u001b[1m313/313\u001b[0m \u001b[32m━━━━━━━━━━━━━━━━━━━━\u001b[0m\u001b[37m\u001b[0m \u001b[1m3s\u001b[0m 9ms/step - loss: 1.6439e-06 - mae: 9.8310e-04 - val_loss: 1.0878e-06 - val_mae: 7.2783e-04\n",
            "Epoch 30/50\n",
            "\u001b[1m313/313\u001b[0m \u001b[32m━━━━━━━━━━━━━━━━━━━━\u001b[0m\u001b[37m\u001b[0m \u001b[1m5s\u001b[0m 7ms/step - loss: 1.0902e-06 - mae: 7.9419e-04 - val_loss: 9.1725e-07 - val_mae: 8.1569e-04\n",
            "Epoch 31/50\n",
            "\u001b[1m313/313\u001b[0m \u001b[32m━━━━━━━━━━━━━━━━━━━━\u001b[0m\u001b[37m\u001b[0m \u001b[1m3s\u001b[0m 8ms/step - loss: 1.1393e-06 - mae: 8.1998e-04 - val_loss: 1.5793e-07 - val_mae: 3.0246e-04\n",
            "Epoch 32/50\n",
            "\u001b[1m313/313\u001b[0m \u001b[32m━━━━━━━━━━━━━━━━━━━━\u001b[0m\u001b[37m\u001b[0m \u001b[1m2s\u001b[0m 7ms/step - loss: 1.2064e-06 - mae: 8.2495e-04 - val_loss: 2.1510e-06 - val_mae: 0.0011\n",
            "Epoch 33/50\n",
            "\u001b[1m313/313\u001b[0m \u001b[32m━━━━━━━━━━━━━━━━━━━━\u001b[0m\u001b[37m\u001b[0m \u001b[1m2s\u001b[0m 8ms/step - loss: 1.1008e-06 - mae: 7.9411e-04 - val_loss: 1.1174e-06 - val_mae: 9.2798e-04\n",
            "Epoch 34/50\n",
            "\u001b[1m313/313\u001b[0m \u001b[32m━━━━━━━━━━━━━━━━━━━━\u001b[0m\u001b[37m\u001b[0m \u001b[1m3s\u001b[0m 11ms/step - loss: 1.0317e-06 - mae: 7.6513e-04 - val_loss: 3.4920e-07 - val_mae: 4.1103e-04\n",
            "Epoch 35/50\n",
            "\u001b[1m313/313\u001b[0m \u001b[32m━━━━━━━━━━━━━━━━━━━━\u001b[0m\u001b[37m\u001b[0m \u001b[1m2s\u001b[0m 7ms/step - loss: 1.0448e-06 - mae: 7.8112e-04 - val_loss: 1.2483e-06 - val_mae: 0.0010\n",
            "Epoch 36/50\n",
            "\u001b[1m313/313\u001b[0m \u001b[32m━━━━━━━━━━━━━━━━━━━━\u001b[0m\u001b[37m\u001b[0m \u001b[1m2s\u001b[0m 7ms/step - loss: 9.3203e-07 - mae: 7.4365e-04 - val_loss: 1.4790e-06 - val_mae: 0.0011\n",
            "Epoch 37/50\n",
            "\u001b[1m313/313\u001b[0m \u001b[32m━━━━━━━━━━━━━━━━━━━━\u001b[0m\u001b[37m\u001b[0m \u001b[1m2s\u001b[0m 7ms/step - loss: 8.6251e-07 - mae: 7.0943e-04 - val_loss: 5.2832e-06 - val_mae: 0.0022\n",
            "Epoch 38/50\n",
            "\u001b[1m313/313\u001b[0m \u001b[32m━━━━━━━━━━━━━━━━━━━━\u001b[0m\u001b[37m\u001b[0m \u001b[1m2s\u001b[0m 7ms/step - loss: 7.8509e-07 - mae: 6.9356e-04 - val_loss: 3.1381e-07 - val_mae: 4.4469e-04\n",
            "Epoch 39/50\n",
            "\u001b[1m313/313\u001b[0m \u001b[32m━━━━━━━━━━━━━━━━━━━━\u001b[0m\u001b[37m\u001b[0m \u001b[1m3s\u001b[0m 10ms/step - loss: 9.0486e-07 - mae: 6.9808e-04 - val_loss: 5.0063e-07 - val_mae: 5.4978e-04\n",
            "Epoch 40/50\n",
            "\u001b[1m313/313\u001b[0m \u001b[32m━━━━━━━━━━━━━━━━━━━━\u001b[0m\u001b[37m\u001b[0m \u001b[1m4s\u001b[0m 7ms/step - loss: 7.2144e-07 - mae: 6.5120e-04 - val_loss: 2.1965e-06 - val_mae: 0.0013\n",
            "Epoch 41/50\n",
            "\u001b[1m313/313\u001b[0m \u001b[32m━━━━━━━━━━━━━━━━━━━━\u001b[0m\u001b[37m\u001b[0m \u001b[1m2s\u001b[0m 7ms/step - loss: 6.0874e-07 - mae: 6.0551e-04 - val_loss: 7.2300e-07 - val_mae: 7.5585e-04\n",
            "Epoch 42/50\n",
            "\u001b[1m313/313\u001b[0m \u001b[32m━━━━━━━━━━━━━━━━━━━━\u001b[0m\u001b[37m\u001b[0m \u001b[1m2s\u001b[0m 7ms/step - loss: 4.9572e-07 - mae: 5.3907e-04 - val_loss: 3.1188e-07 - val_mae: 4.1061e-04\n",
            "Epoch 43/50\n",
            "\u001b[1m313/313\u001b[0m \u001b[32m━━━━━━━━━━━━━━━━━━━━\u001b[0m\u001b[37m\u001b[0m \u001b[1m2s\u001b[0m 7ms/step - loss: 3.7535e-07 - mae: 4.7081e-04 - val_loss: 1.3839e-07 - val_mae: 3.2856e-04\n",
            "Epoch 44/50\n",
            "\u001b[1m313/313\u001b[0m \u001b[32m━━━━━━━━━━━━━━━━━━━━\u001b[0m\u001b[37m\u001b[0m \u001b[1m3s\u001b[0m 11ms/step - loss: 7.1844e-07 - mae: 6.1181e-04 - val_loss: 1.5692e-07 - val_mae: 2.8526e-04\n",
            "Epoch 45/50\n",
            "\u001b[1m313/313\u001b[0m \u001b[32m━━━━━━━━━━━━━━━━━━━━\u001b[0m\u001b[37m\u001b[0m \u001b[1m3s\u001b[0m 8ms/step - loss: 3.3003e-07 - mae: 4.2671e-04 - val_loss: 3.6373e-07 - val_mae: 5.6998e-04\n",
            "Epoch 46/50\n",
            "\u001b[1m313/313\u001b[0m \u001b[32m━━━━━━━━━━━━━━━━━━━━\u001b[0m\u001b[37m\u001b[0m \u001b[1m2s\u001b[0m 7ms/step - loss: 3.5306e-07 - mae: 4.5609e-04 - val_loss: 1.9308e-06 - val_mae: 0.0014\n",
            "Epoch 47/50\n",
            "\u001b[1m313/313\u001b[0m \u001b[32m━━━━━━━━━━━━━━━━━━━━\u001b[0m\u001b[37m\u001b[0m \u001b[1m2s\u001b[0m 7ms/step - loss: 1.2468e-06 - mae: 8.5915e-04 - val_loss: 7.9195e-07 - val_mae: 7.8396e-04\n",
            "Epoch 48/50\n",
            "\u001b[1m313/313\u001b[0m \u001b[32m━━━━━━━━━━━━━━━━━━━━\u001b[0m\u001b[37m\u001b[0m \u001b[1m2s\u001b[0m 7ms/step - loss: 2.3342e-07 - mae: 3.6499e-04 - val_loss: 4.5113e-08 - val_mae: 1.5720e-04\n",
            "Epoch 49/50\n",
            "\u001b[1m313/313\u001b[0m \u001b[32m━━━━━━━━━━━━━━━━━━━━\u001b[0m\u001b[37m\u001b[0m \u001b[1m3s\u001b[0m 10ms/step - loss: 1.6605e-07 - mae: 3.0658e-04 - val_loss: 1.2637e-07 - val_mae: 3.1834e-04\n",
            "Epoch 50/50\n",
            "\u001b[1m313/313\u001b[0m \u001b[32m━━━━━━━━━━━━━━━━━━━━\u001b[0m\u001b[37m\u001b[0m \u001b[1m4s\u001b[0m 7ms/step - loss: 3.9265e-07 - mae: 4.6226e-04 - val_loss: 4.0913e-08 - val_mae: 1.3330e-04\n",
            "Training completed!\n"
          ]
        }
      ]
    },
    {
      "cell_type": "code",
      "source": [
        "train_pred = model.predict(X_train_all, verbose=0)\n",
        "test_pred = model.predict(X_test_all, verbose=0)\n",
        "\n",
        "train_mse = mean_squared_error(y_train_all, train_pred.flatten())\n",
        "train_mae = mean_absolute_error(y_train_all, train_pred.flatten())\n",
        "train_mape = calculate_mape(y_train_all, train_pred.flatten())\n",
        "\n",
        "test_mse = mean_squared_error(y_test_all, test_pred.flatten())\n",
        "test_mae = mean_absolute_error(y_test_all, test_pred.flatten())\n",
        "test_mape = calculate_mape(y_test_all, test_pred.flatten())\n",
        "\n",
        "print(\"Training Results:\")\n",
        "print(f\"  MSE: {train_mse:.4f}\")\n",
        "print(f\"  MAE: {train_mae:.4f}\")\n",
        "print(f\"  MAPE: {train_mape:.2f}%\")\n",
        "\n",
        "print(\"\\nTest Results:\")\n",
        "print(f\"  MSE: {test_mse:.4f}\")\n",
        "print(f\"  MAE: {test_mae:.4f}\")\n",
        "print(f\"  MAPE: {test_mape:.2f}%\")"
      ],
      "metadata": {
        "colab": {
          "base_uri": "https://localhost:8080/"
        },
        "id": "dxH_fn9Mv8Sd",
        "outputId": "4d3799cb-d0a7-4536-c9c3-2a008ec96743"
      },
      "execution_count": 10,
      "outputs": [
        {
          "output_type": "stream",
          "name": "stdout",
          "text": [
            "Training Results:\n",
            "  MSE: 0.0000\n",
            "  MAE: 0.0002\n",
            "  MAPE: 0.24%\n",
            "\n",
            "Test Results:\n",
            "  MSE: 0.0000\n",
            "  MAE: 0.0001\n",
            "  MAPE: 0.10%\n"
          ]
        }
      ]
    },
    {
      "cell_type": "code",
      "source": [
        "print(\"Data ranges:\")\n",
        "print(f\"y_train range: {y_train_all.min():.4f} to {y_train_all.max():.4f}\")\n",
        "print(f\"y_test range: {y_test_all.min():.4f} to {y_test_all.max():.4f}\")\n",
        "print(f\"Predictions range: {test_pred.min():.4f} to {test_pred.max():.4f}\")\n",
        "\n",
        "print(f\"\\nSample actual vs predicted:\")\n",
        "for i in range(5):\n",
        "    print(f\"Actual: {y_test_all[i]:.4f}, Predicted: {test_pred[i][0]:.4f}\")"
      ],
      "metadata": {
        "colab": {
          "base_uri": "https://localhost:8080/"
        },
        "id": "aUaAAZZNync7",
        "outputId": "b46f6032-12e6-435c-92e4-a5a3eb28db12"
      },
      "execution_count": 11,
      "outputs": [
        {
          "output_type": "stream",
          "name": "stdout",
          "text": [
            "Data ranges:\n",
            "y_train range: 0.0188 to 0.3691\n",
            "y_test range: 0.0179 to 0.3407\n",
            "Predictions range: 0.0179 to 0.3409\n",
            "\n",
            "Sample actual vs predicted:\n",
            "Actual: 0.2189, Predicted: 0.2187\n",
            "Actual: 0.2253, Predicted: 0.2252\n",
            "Actual: 0.2683, Predicted: 0.2678\n",
            "Actual: 0.2784, Predicted: 0.2779\n",
            "Actual: 0.1184, Predicted: 0.1185\n"
          ]
        }
      ]
    },
    {
      "cell_type": "code",
      "source": [
        "# Test on the first 10 countries\n",
        "sample_countries = list(processed_data.keys())[:10]\n",
        "country_results = []\n",
        "\n",
        "for country_key in sample_countries:\n",
        "    data = processed_data[country_key]\n",
        "\n",
        "    X_test_country = data['X_test']\n",
        "    y_test_country = data['y_test']\n",
        "\n",
        "    if len(X_test_country) == 0:\n",
        "        continue\n",
        "\n",
        "    print('Original shape for ', country_key, ':', X_test_country.shape)\n",
        "\n",
        "    if len(X_test_country.shape) == 2:\n",
        "        X_test_country = X_test_country.reshape(X_test_country.shape[0], X_test_country.shape[1], 1)\n",
        "\n",
        "    print('Reshaped to: ', X_test_country.shape)\n",
        "\n",
        "    predictions = model.predict(X_test_country, verbose=0).flatten()\n",
        "\n",
        "    mse = mean_squared_error(y_test_country, predictions)\n",
        "    mae = mean_absolute_error(y_test_country, predictions)\n",
        "    mape = calculate_mape(y_test_country, predictions)\n",
        "\n",
        "    country_results.append({\n",
        "        'country': country_key,\n",
        "        'mse': mse,\n",
        "        'mae': mae,\n",
        "        'mape': mape\n",
        "    })\n",
        "\n",
        "    print(f\"{country_key}:\")\n",
        "    print(f\"  MSE: {mse:.4f}\")\n",
        "    print(f\"  MAE: {mae:.4f}\")\n",
        "    print(f\"  MAPE: {mape:.2f}%\")\n",
        "    print()\n",
        "\n",
        "if country_results:\n",
        "    avg_mse = np.mean([r['mse'] for r in country_results])\n",
        "    avg_mae = np.mean([r['mae'] for r in country_results])\n",
        "    avg_mape = np.mean([r['mape'] for r in country_results])\n",
        "\n",
        "    print(\"Average Performance Across Countries:\")\n",
        "    print(f\"  MSE: {avg_mse:.4f}\")\n",
        "    print(f\"  MAE: {avg_mae:.4f}\")\n",
        "    print(f\"  MAPE: {avg_mape:.2f}%\")"
      ],
      "metadata": {
        "colab": {
          "base_uri": "https://localhost:8080/"
        },
        "id": "A85wEjdWwliZ",
        "outputId": "455a6bd1-cc03-472a-9d6e-6180b5424d51"
      },
      "execution_count": 12,
      "outputs": [
        {
          "output_type": "stream",
          "name": "stdout",
          "text": [
            "Original shape for  afghanistan_men : (2, 6)\n",
            "Reshaped to:  (2, 6, 1)\n",
            "afghanistan_men:\n",
            "  MSE: 0.0000\n",
            "  MAE: 0.0001\n",
            "  MAPE: 0.05%\n",
            "\n",
            "Original shape for  afghanistan_women : (2, 6)\n",
            "Reshaped to:  (2, 6, 1)\n",
            "afghanistan_women:\n",
            "  MSE: 0.0000\n",
            "  MAE: 0.0005\n",
            "  MAPE: 0.19%\n",
            "\n",
            "Original shape for  albania_men : (2, 6)\n",
            "Reshaped to:  (2, 6, 1)\n",
            "albania_men:\n",
            "  MSE: 0.0000\n",
            "  MAE: 0.0001\n",
            "  MAPE: 0.07%\n",
            "\n",
            "Original shape for  albania_women : (2, 6)\n",
            "Reshaped to:  (2, 6, 1)\n",
            "albania_women:\n",
            "  MSE: 0.0000\n",
            "  MAE: 0.0001\n",
            "  MAPE: 0.10%\n",
            "\n",
            "Original shape for  algeria_men : (2, 6)\n",
            "Reshaped to:  (2, 6, 1)\n",
            "algeria_men:\n",
            "  MSE: 0.0000\n",
            "  MAE: 0.0003\n",
            "  MAPE: 0.16%\n",
            "\n",
            "Original shape for  algeria_women : (2, 6)\n",
            "Reshaped to:  (2, 6, 1)\n",
            "algeria_women:\n",
            "  MSE: 0.0000\n",
            "  MAE: 0.0003\n",
            "  MAPE: 0.17%\n",
            "\n",
            "Original shape for  american samoa_men : (2, 6)\n",
            "Reshaped to:  (2, 6, 1)\n",
            "american samoa_men:\n",
            "  MSE: 0.0000\n",
            "  MAE: 0.0006\n",
            "  MAPE: 0.21%\n",
            "\n",
            "Original shape for  american samoa_women : (2, 6)\n",
            "Reshaped to:  (2, 6, 1)\n",
            "american samoa_women:\n",
            "  MSE: 0.0000\n",
            "  MAE: 0.0005\n",
            "  MAPE: 0.16%\n",
            "\n",
            "Original shape for  andorra_men : (2, 6)\n",
            "Reshaped to:  (2, 6, 1)\n",
            "andorra_men:\n",
            "  MSE: 0.0000\n",
            "  MAE: 0.0000\n",
            "  MAPE: 0.03%\n",
            "\n",
            "Original shape for  andorra_women : (2, 6)\n",
            "Reshaped to:  (2, 6, 1)\n",
            "andorra_women:\n",
            "  MSE: 0.0000\n",
            "  MAE: 0.0001\n",
            "  MAPE: 0.09%\n",
            "\n",
            "Average Performance Across Countries:\n",
            "  MSE: 0.0000\n",
            "  MAE: 0.0003\n",
            "  MAPE: 0.12%\n"
          ]
        }
      ]
    },
    {
      "cell_type": "code",
      "source": [
        "# Forecast for selected countries\n",
        "representative_countries = {\n",
        "    'united states of america_men': 'High-Income',\n",
        "    'germany_women': 'High-Income',\n",
        "    'brazil_men': 'Upper-Middle-Income',\n",
        "    'india_women': 'Lower-Middle-Income',\n",
        "    'nigeria_men': 'Low-Income'\n",
        "}\n",
        "\n",
        "country_results = []\n",
        "\n",
        "for country_key in representative_countries.keys():\n",
        "    data = processed_data[country_key]\n",
        "    X_test_country = data['X_test']\n",
        "    y_test_country = data['y_test']\n",
        "\n",
        "    if len(X_test_country) == 0:\n",
        "        print(f\"No test data for {country_key}, skipping.\")\n",
        "        continue\n",
        "\n",
        "    print('Original shape for ', country_key, ':', X_test_country.shape)\n",
        "\n",
        "    if len(X_test_country.shape) == 2:\n",
        "        X_test_country = X_test_country.reshape(X_test_country.shape[0], X_test_country.shape[1], 1)\n",
        "\n",
        "    print('Reshaped to: ', X_test_country.shape)\n",
        "\n",
        "    predictions = model.predict(X_test_country, verbose=0).flatten()\n",
        "\n",
        "    mse = mean_squared_error(y_test_country, predictions)\n",
        "    mae = mean_absolute_error(y_test_country, predictions)\n",
        "    mape = calculate_mape(y_test_country, predictions)\n",
        "\n",
        "    country_results.append({\n",
        "        'country': country_key,\n",
        "        'income_group': representative_countries[country_key],\n",
        "        'mse': mse,\n",
        "        'mae': mae,\n",
        "        'mape': mape\n",
        "    })\n",
        "\n",
        "    print(country_key + \" (\" + representative_countries[country_key] + \"):\")\n",
        "    print(f\"  MSE: {mse:.4f}\")\n",
        "    print(f\"  MAE: {mae:.4f}\")\n",
        "    print(f\"  MAPE: {mape:.2f}%\")\n",
        "    print()"
      ],
      "metadata": {
        "colab": {
          "base_uri": "https://localhost:8080/"
        },
        "id": "BHjcNEvpJFZr",
        "outputId": "42322232-f361-4411-91ce-b542d089985c"
      },
      "execution_count": 13,
      "outputs": [
        {
          "output_type": "stream",
          "name": "stdout",
          "text": [
            "Original shape for  united states of america_men : (2, 6)\n",
            "Reshaped to:  (2, 6, 1)\n",
            "united states of america_men (High-Income):\n",
            "  MSE: 0.0000\n",
            "  MAE: 0.0001\n",
            "  MAPE: 0.07%\n",
            "\n",
            "Original shape for  germany_women : (2, 6)\n",
            "Reshaped to:  (2, 6, 1)\n",
            "germany_women (High-Income):\n",
            "  MSE: 0.0000\n",
            "  MAE: 0.0000\n",
            "  MAPE: 0.09%\n",
            "\n",
            "Original shape for  brazil_men : (2, 6)\n",
            "Reshaped to:  (2, 6, 1)\n",
            "brazil_men (Upper-Middle-Income):\n",
            "  MSE: 0.0000\n",
            "  MAE: 0.0001\n",
            "  MAPE: 0.10%\n",
            "\n",
            "Original shape for  india_women : (2, 6)\n",
            "Reshaped to:  (2, 6, 1)\n",
            "india_women (Lower-Middle-Income):\n",
            "  MSE: 0.0000\n",
            "  MAE: 0.0001\n",
            "  MAPE: 0.05%\n",
            "\n",
            "Original shape for  nigeria_men : (2, 6)\n",
            "Reshaped to:  (2, 6, 1)\n",
            "nigeria_men (Low-Income):\n",
            "  MSE: 0.0000\n",
            "  MAE: 0.0001\n",
            "  MAPE: 0.09%\n",
            "\n"
          ]
        }
      ]
    },
    {
      "cell_type": "code",
      "source": [
        "def forecast_future(model, data, years_ahead=8):\n",
        "    seq = data['X_test'][-1].reshape(1, -1, 1)  # reshape in one step\n",
        "    forecasts = []\n",
        "\n",
        "    for _ in range(years_ahead):\n",
        "        pred = model.predict(seq, verbose=0)[0][0]\n",
        "        forecasts.append(pred)\n",
        "        next_seq = np.roll(seq[0], -1, axis=0)\n",
        "        next_seq[-1] = pred\n",
        "        seq = next_seq.reshape(1, next_seq.shape[0], next_seq.shape[1])\n",
        "\n",
        "    return forecasts"
      ],
      "metadata": {
        "id": "MEfKuOALLp4j"
      },
      "execution_count": 14,
      "outputs": []
    },
    {
      "cell_type": "code",
      "source": [
        "forecast_results = []\n",
        "\n",
        "for country_key, income_group in representative_countries.items():\n",
        "    data = processed_data[country_key]\n",
        "    forecasts = forecast_future(model, data, years_ahead=8)\n",
        "\n",
        "    start_value = forecasts[0]\n",
        "    end_value = forecasts[7]\n",
        "    increase_pct = ((end_value - start_value) / start_value) * 100\n",
        "\n",
        "    forecast_results.append({\n",
        "        'Country': country_key.split('_')[0],\n",
        "        'Income Group': income_group,\n",
        "        '2023': start_value,\n",
        "        '2026': forecasts[3],\n",
        "        '2028': forecasts[5],\n",
        "        '2030': end_value,\n",
        "        'Increase (%)': increase_pct\n",
        "    })\n",
        "\n",
        "print(\"Country\\tIncome\\t2023\\t2030\\tIncrease(%)\")\n",
        "for res in forecast_results:\n",
        "    print(f\"{res['Country']}\\t{res['Income Group']}\\t{res['2023']:.2f}\\t{res['2030']:.2f}\\t{res['Increase (%)']:.1f}\")"
      ],
      "metadata": {
        "colab": {
          "base_uri": "https://localhost:8080/"
        },
        "id": "Bws3xvufMq9z",
        "outputId": "037c7c98-27c0-42d1-91ba-29d1b6ebb2e2"
      },
      "execution_count": 16,
      "outputs": [
        {
          "output_type": "stream",
          "name": "stdout",
          "text": [
            "Country\tIncome\t2023\t2030\tIncrease(%)\n",
            "united states of america\tHigh-Income\t0.14\t0.16\t20.7\n",
            "germany\tHigh-Income\t0.05\t0.06\t14.5\n",
            "brazil\tUpper-Middle-Income\t0.12\t0.15\t29.1\n",
            "india\tLower-Middle-Income\t0.24\t0.30\t25.7\n",
            "nigeria\tLow-Income\t0.11\t0.14\t33.2\n"
          ]
        }
      ]
    },
    {
      "cell_type": "code",
      "source": [
        "avg_rmse = np.sqrt(avg_mse)\n",
        "\n",
        "print(f\"Average MSE: {avg_mse:.4f}\")\n",
        "print(f\"Average MAE: {avg_mae:.4f}\")\n",
        "print(f\"Average RMSE: {avg_rmse:.4f}\")\n",
        "print(f\"Average MAPE: {avg_mape:.2f}%\")\n",
        "\n",
        "print(\"\\nPerformance Assessment:\")\n",
        "if avg_mape < 15:\n",
        "    print(\"Model performance: Excellent (MAPE < 15%)\")\n",
        "elif avg_mape < 25:\n",
        "    print(\"Model performance: Good (MAPE < 25%)\")\n",
        "else:\n",
        "    print(\"Model performance: Needs improvement (MAPE >= 25%)\")\n",
        "\n",
        "print(f\"\\nInterpretation:\")\n",
        "print(f\"- On average, predictions are off by {avg_mae:.2f} percentage points\")\n",
        "print(f\"- Model explains diabetes prevalence trends with {avg_mape:.1f}% average error\")"
      ],
      "metadata": {
        "colab": {
          "base_uri": "https://localhost:8080/"
        },
        "id": "Tw9HT8jewtFg",
        "outputId": "efa2db1f-de9f-4ce3-9fb8-c939d9cdbbd9"
      },
      "execution_count": 17,
      "outputs": [
        {
          "output_type": "stream",
          "name": "stdout",
          "text": [
            "Average MSE: 0.0000\n",
            "Average MAE: 0.0003\n",
            "Average RMSE: 0.0003\n",
            "Average MAPE: 0.12%\n",
            "\n",
            "Performance Assessment:\n",
            "Model performance: Excellent (MAPE < 15%)\n",
            "\n",
            "Interpretation:\n",
            "- On average, predictions are off by 0.00 percentage points\n",
            "- Model explains diabetes prevalence trends with 0.1% average error\n"
          ]
        }
      ]
    },
    {
      "cell_type": "code",
      "source": [
        "fig, axes = plt.subplots(2, 2, figsize=(12, 10))\n",
        "\n",
        "# Training Loss\n",
        "axes[0,0].plot(history.history['loss'], label='Training Loss')\n",
        "axes[0,0].plot(history.history['val_loss'], label='Validation Loss')\n",
        "axes[0,0].set(title='Model Training Loss', xlabel='Epoch', ylabel='Loss')\n",
        "axes[0,0].legend()\n",
        "axes[0,0].grid(True)\n",
        "\n",
        "# Training MAE\n",
        "axes[0,1].plot(history.history['mae'], label='Training MAE')\n",
        "axes[0,1].plot(history.history['val_mae'], label='Validation MAE')\n",
        "axes[0,1].set(title='Model Training MAE', xlabel='Epoch', ylabel='MAE')\n",
        "axes[0,1].legend()\n",
        "axes[0,1].grid(True)\n",
        "\n",
        "# Predictions vs Actual\n",
        "axes[1,0].scatter(y_test_all, test_pred, alpha=0.6)\n",
        "axes[1,0].plot([y_test_all.min(), y_test_all.max()], [y_test_all.min(), y_test_all.max()], 'r--')\n",
        "axes[1,0].set(title='Predictions vs Actual', xlabel='Actual', ylabel='Predicted')\n",
        "axes[1,0].grid(True)\n",
        "\n",
        "# Metrics bar plot\n",
        "metrics = ['MSE', 'MAE', 'MAPE']\n",
        "values = [test_mse, test_mae, test_mape]\n",
        "axes[1,1].bar(metrics, values, color=['skyblue', 'orange', 'green'])\n",
        "axes[1,1].set(title='Model Performance Metrics', ylabel='Value')\n",
        "axes[1,1].grid(True)\n",
        "\n",
        "plt.tight_layout()\n",
        "plt.show()"
      ],
      "metadata": {
        "colab": {
          "base_uri": "https://localhost:8080/",
          "height": 1000
        },
        "id": "_ifWJ3SPS7Rz",
        "outputId": "c1f1990b-81bf-475a-9acb-268e6bf92b77"
      },
      "execution_count": 19,
      "outputs": [
        {
          "output_type": "display_data",
          "data": {
            "text/plain": [
              "<Figure size 1200x1000 with 4 Axes>"
            ],
            "image/png": "[encoded data removed]"
          },
          "metadata": {}
        }
      ]
    },
    {
      "cell_type": "code",
      "source": [
        "def forecast_future(model, country_data, years_ahead=8):\n",
        "    last_sequence = country_data['X_test'][-1]\n",
        "    forecasts = []\n",
        "    current_seq = last_sequence.copy()\n",
        "\n",
        "    for year in range(years_ahead):\n",
        "        input_data = current_seq.reshape(1, current_seq.shape[0], 1)\n",
        "        next_pred = model.predict(input_data, verbose=0)[0, 0]\n",
        "        forecasts.append(next_pred)\n",
        "        current_seq = np.append(current_seq[1:], next_pred)\n",
        "\n",
        "    return forecasts\n",
        "\n",
        "sample_countries = list(processed_data.keys())[:5]\n",
        "forecast_years = list(range(2023, 2031))\n",
        "\n",
        "print(\"Forecasting for\", len(sample_countries), \"countries\")\n",
        "print(\"Forecast period:\", forecast_years[0], \"to\", forecast_years[-1])\n",
        "\n",
        "for country_key in sample_countries:\n",
        "    country_data = processed_data[country_key]\n",
        "\n",
        "    if len(country_data['X_test']) > 0:\n",
        "        try:\n",
        "            forecasts = forecast_future(model, country_data)\n",
        "            last_actual = country_data['y_test'][-1]\n",
        "\n",
        "            print(\"\\n\" + country_key)\n",
        "            print(f\"Last actual value (2022): {last_actual:.2f}%\")\n",
        "\n",
        "            for year, forecast in zip(forecast_years, forecasts):\n",
        "                print(f\"  {year}: {forecast:.2f}%\")\n",
        "\n",
        "        except Exception as e:\n",
        "            print(\"Could not generate forecast for\", country_key, \":\", e)"
      ],
      "metadata": {
        "colab": {
          "base_uri": "https://localhost:8080/"
        },
        "id": "OPO0T7uUw-ky",
        "outputId": "58d800cd-6d62-4710-c033-010a1494c5bc"
      },
      "execution_count": 20,
      "outputs": [
        {
          "output_type": "stream",
          "name": "stdout",
          "text": [
            "Forecasting for 5 countries\n",
            "Forecast period: 2023 to 2030\n",
            "\n",
            "afghanistan_men\n",
            "Last actual value (2022): 0.23%\n",
            "  2023: 0.23%\n",
            "  2024: 0.23%\n",
            "  2025: 0.24%\n",
            "  2026: 0.25%\n",
            "  2027: 0.25%\n",
            "  2028: 0.26%\n",
            "  2029: 0.27%\n",
            "  2030: 0.27%\n",
            "\n",
            "afghanistan_women\n",
            "Last actual value (2022): 0.28%\n",
            "  2023: 0.28%\n",
            "  2024: 0.29%\n",
            "  2025: 0.30%\n",
            "  2026: 0.31%\n",
            "  2027: 0.31%\n",
            "  2028: 0.32%\n",
            "  2029: 0.33%\n",
            "  2030: 0.34%\n",
            "\n",
            "albania_men\n",
            "Last actual value (2022): 0.12%\n",
            "  2023: 0.12%\n",
            "  2024: 0.13%\n",
            "  2025: 0.13%\n",
            "  2026: 0.14%\n",
            "  2027: 0.14%\n",
            "  2028: 0.15%\n",
            "  2029: 0.16%\n",
            "  2030: 0.16%\n",
            "\n",
            "albania_women\n",
            "Last actual value (2022): 0.09%\n",
            "  2023: 0.09%\n",
            "  2024: 0.10%\n",
            "  2025: 0.10%\n",
            "  2026: 0.11%\n",
            "  2027: 0.11%\n",
            "  2028: 0.11%\n",
            "  2029: 0.12%\n",
            "  2030: 0.13%\n",
            "\n",
            "algeria_men\n",
            "Last actual value (2022): 0.17%\n",
            "  2023: 0.17%\n",
            "  2024: 0.17%\n",
            "  2025: 0.17%\n",
            "  2026: 0.18%\n",
            "  2027: 0.18%\n",
            "  2028: 0.18%\n",
            "  2029: 0.19%\n",
            "  2030: 0.19%\n"
          ]
        }
      ]
    },
    {
      "cell_type": "code",
      "source": [
        "model.save('/content/drive/MyDrive/Dissertation/diabetes_lstm_model.keras')\n",
        "\n",
        "import pickle\n",
        "with open('/content/drive/MyDrive/Dissertation/lstm_training_history.pkl', 'wb') as f:\n",
        "    pickle.dump(history.history, f)\n",
        "\n",
        "results = {\n",
        "    'model_performance': {\n",
        "        'test_mse': float(test_mse),\n",
        "        'test_mae': float(test_mae),\n",
        "        'test_mape': float(test_mape),\n",
        "        'avg_country_mse': float(avg_mse),\n",
        "        'avg_country_mae': float(avg_mae),\n",
        "        'avg_country_mape': float(avg_mape)\n",
        "    },\n",
        "    'model_info': {\n",
        "        'sequence_length': seq_length,\n",
        "        'test_size': test_size,\n",
        "        'total_countries': successful_count,\n",
        "        'training_samples': len(X_train_all),\n",
        "        'test_samples': len(X_test_all),\n",
        "        'epochs_trained': len(history.history['loss'])\n",
        "    },\n",
        "    'country_results': country_results\n",
        "}\n",
        "\n",
        "import json\n",
        "with open('/content/drive/MyDrive/Dissertation/lstm_model_results.json', 'w') as f:\n",
        "    json.dump(results, f, indent=2)\n",
        "\n",
        "print(\"All files saved successfully!\")"
      ],
      "metadata": {
        "colab": {
          "base_uri": "https://localhost:8080/"
        },
        "id": "sBKhLHJqxd57",
        "outputId": "302da256-e9af-475d-a9eb-3038885a6d7a"
      },
      "execution_count": 21,
      "outputs": [
        {
          "output_type": "stream",
          "name": "stdout",
          "text": [
            "All files saved successfully!\n"
          ]
        }
      ]
    },
    {
      "cell_type": "code",
      "source": [],
      "metadata": {
        "id": "RASWq692UrfZ"
      },
      "execution_count": null,
      "outputs": []
    }
  ]
}